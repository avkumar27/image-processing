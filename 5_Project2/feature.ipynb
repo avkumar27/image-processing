{
  "nbformat": 4,
  "nbformat_minor": 0,
  "metadata": {
    "kernelspec": {
      "name": "python3",
      "display_name": "Python 3"
    },
    "language_info": {
      "codemirror_mode": {
        "name": "ipython",
        "version": 3
      },
      "file_extension": ".py",
      "mimetype": "text/x-python",
      "name": "python",
      "nbconvert_exporter": "python",
      "pygments_lexer": "ipython3",
      "version": "3.7.5"
    },
    "colab": {
      "name": "feature.ipynb",
      "provenance": [],
      "collapsed_sections": []
    },
    "accelerator": "GPU"
  },
  "cells": [
    {
      "cell_type": "code",
      "metadata": {
        "id": "fERztljRTe_P",
        "colab_type": "code",
        "outputId": "93f3ed1d-bcdc-40d9-8b36-e669f1e55862",
        "colab": {
          "base_uri": "https://localhost:8080/",
          "height": 122
        }
      },
      "source": [
        "from __future__ import print_function, division\n",
        "\n",
        "import os\n",
        "import numpy as np\n",
        "import random\n",
        "\n",
        "import matplotlib.pyplot as plt\n",
        "from matplotlib.pyplot import imshow\n",
        "\n",
        "import torch\n",
        "import torch.nn as nn\n",
        "import torch.nn.functional as F\n",
        "from torch.autograd import Variable\n",
        "import torch.optim as optim\n",
        "import torchvision\n",
        "from torchvision import datasets, models, transforms\n",
        "from torch.optim import lr_scheduler\n",
        "import pandas as pd\n",
        "import matplotlib.pyplot as plt\n",
        "\n",
        "import time\n",
        "import copy\n",
        "import shutil\n",
        "import re\n",
        "\n",
        "#Mounting Google drive for Colab execution\n",
        "\n",
        "from google.colab import drive\n",
        "drive.mount('/content/drive')\n",
        "\n",
        "from pydrive.auth import GoogleAuth\n",
        "from pydrive.drive import GoogleDrive\n",
        "from google.colab import auth\n",
        "from oauth2client.client import GoogleCredentials\n",
        "\n",
        "auth.authenticate_user()\n",
        "gauth = GoogleAuth()\n",
        "gauth.credentials = GoogleCredentials.get_application_default()\n",
        "drive = GoogleDrive(gauth)\n",
        "\n",
        "your_module = drive.CreateFile({'id':'1dBH4qAfLeP5AUbIlLZunJqcBzQ2BOUFF'})\n",
        "your_module.GetContentFile('util.py')\n",
        "\n",
        "from util import plot_confusion_matrix\n",
        "\n",
        "torch.manual_seed(0)\n",
        "# Define train and test directories\n",
        "base_dir = '/content/drive/My Drive/data/places/'"
      ],
      "execution_count": 1,
      "outputs": [
        {
          "output_type": "stream",
          "text": [
            "Go to this URL in a browser: https://accounts.google.com/o/oauth2/auth?client_id=947318989803-6bn6qk8qdgf4n4g3pfee6491hc0brc4i.apps.googleusercontent.com&redirect_uri=urn%3aietf%3awg%3aoauth%3a2.0%3aoob&response_type=code&scope=email%20https%3a%2f%2fwww.googleapis.com%2fauth%2fdocs.test%20https%3a%2f%2fwww.googleapis.com%2fauth%2fdrive%20https%3a%2f%2fwww.googleapis.com%2fauth%2fdrive.photos.readonly%20https%3a%2f%2fwww.googleapis.com%2fauth%2fpeopleapi.readonly\n",
            "\n",
            "Enter your authorization code:\n",
            "··········\n",
            "Mounted at /content/drive\n"
          ],
          "name": "stdout"
        }
      ]
    },
    {
      "cell_type": "code",
      "metadata": {
        "id": "O8vuCDDmTe_U",
        "colab_type": "code",
        "colab": {}
      },
      "source": [
        "# Pre-processing the dataset\n",
        "# Normalize the images\n",
        "normalize = transforms.Normalize(mean=[0.485, 0.456, 0.406], std=[0.229, 0.224, 0.225])\n",
        "# Resize the images\n",
        "resize = transforms.Resize((224, 224))\n",
        "\n",
        "transforms = {\n",
        "'train': transforms.Compose([\n",
        "        transforms.ToTensor(),\n",
        "        normalize\n",
        "]), \n",
        "'test': transforms.Compose([\n",
        "        transforms.ToTensor(),\n",
        "        normalize\n",
        "]),\n",
        "}\n",
        "\n",
        "# Dataset augmentation is not performed on the training images therefore the transform can be common\n",
        "\n",
        "# Normalize the test set same as training set No need to perform augmentation\n",
        "#transform_test = transforms.Compose([\n",
        "#    resize,\n",
        "#    transforms.ToTensor(),\n",
        "#    normalize,\n",
        "#])"
      ],
      "execution_count": 0,
      "outputs": []
    },
    {
      "cell_type": "code",
      "metadata": {
        "id": "abcbPtJKDsht",
        "colab_type": "code",
        "colab": {
          "base_uri": "https://localhost:8080/",
          "height": 54
        },
        "outputId": "8f93cb44-1eac-445e-97cd-f8de527696d6"
      },
      "source": [
        "from google.colab import drive\n",
        "drive.mount('/content/drive')"
      ],
      "execution_count": 3,
      "outputs": [
        {
          "output_type": "stream",
          "text": [
            "Drive already mounted at /content/drive; to attempt to forcibly remount, call drive.mount(\"/content/drive\", force_remount=True).\n"
          ],
          "name": "stdout"
        }
      ]
    },
    {
      "cell_type": "code",
      "metadata": {
        "id": "ctexW0HmTe_Z",
        "colab_type": "code",
        "outputId": "c4d8f1a5-4547-469c-db56-83340d41426e",
        "colab": {
          "base_uri": "https://localhost:8080/",
          "height": 54
        }
      },
      "source": [
        "# Applying the transforms to the datasets\n",
        "# trainset = datasets.ImageFolder( os.path.join( base_dir, 'train') , transform_images)\n",
        "# trainloader = torch.utils.data.DataLoader( trainset , batch_size = 4, shuffle = True, num_workers = 4)\n",
        "# The shuffle is set to true for the taining images\n",
        "# testset = datasets.ImageFolder( os.path.join( base_dir, 'test') , transform_images)\n",
        "# testloader = torch.utils.data.DataLoader( testset , batch_size = 4, shuffle = True, num_workers = 4)\n",
        "\n",
        "# Use the image folder function to create datasets\n",
        "dataset = { x: datasets.ImageFolder( os.path.join( base_dir, x ), transforms[x] )for x in ['train', 'test']}\n",
        "\n",
        "dataloader = { x: torch.utils.data.DataLoader( dataset[x], batch_size = 4, shuffle = True, num_workers = 4) for x in ['train', 'test']}\n",
        "\n",
        "# Defining the classes\n",
        "dataset_sizes = { x: len(dataset[x]) for x in ['train', 'test']}\n",
        "class_names = dataset['train'].classes\n",
        "\n",
        "\n",
        "print(class_names)\n",
        "\n",
        "# Number of classes in the dataset\n",
        "num_classes = 9\n",
        "\n",
        "# Number of epochs to train for\n",
        "# num_epochs = 2"
      ],
      "execution_count": 4,
      "outputs": [
        {
          "output_type": "stream",
          "text": [
            "['abbey', 'airport_terminal', 'alley', 'amphitheater', 'amusement_park', 'aquarium', 'aqueduct', 'arch', 'art_gallery']\n"
          ],
          "name": "stdout"
        }
      ]
    },
    {
      "cell_type": "code",
      "metadata": {
        "id": "uz4aIoVyTe_f",
        "colab_type": "code",
        "outputId": "61a6c16f-5a5a-4aa9-d448-9a1da2dcf146",
        "colab": {
          "base_uri": "https://localhost:8080/",
          "height": 149
        }
      },
      "source": [
        "def imshow(img):\n",
        "    img = img / 2 + 0.5     # unnormalize\n",
        "    npimg = img.numpy()\n",
        "    plt.imshow(np.transpose(npimg, (1, 2, 0)))\n",
        "    plt.axis('off')\n",
        "    plt.show()\n",
        "\n",
        "\n",
        "# get some random training images\n",
        "dataiter = iter(dataloader['train'])\n",
        "images, labels = dataiter.next()\n",
        "\n",
        "# show images\n",
        "imshow(torchvision.utils.make_grid(images))\n",
        "# print labels\n",
        "print(' - '.join('%5s' % class_names[labels[j]] for j in range(4)))"
      ],
      "execution_count": 5,
      "outputs": [
        {
          "output_type": "stream",
          "text": [
            "Clipping input data to the valid range for imshow with RGB data ([0..1] for floats or [0..255] for integers).\n"
          ],
          "name": "stderr"
        },
        {
          "output_type": "display_data",
          "data": {
            "image/png": "[encoded data removed]",
            "text/plain": [
              "<Figure size 432x288 with 1 Axes>"
            ]
          },
          "metadata": {
            "tags": []
          }
        },
        {
          "output_type": "stream",
          "text": [
            "alley - alley - airport_terminal - amphitheater\n"
          ],
          "name": "stdout"
        }
      ]
    },
    {
      "cell_type": "code",
      "metadata": {
        "id": "OQiEK6TyTe_p",
        "colab_type": "code",
        "outputId": "bae86be8-5b31-4c77-bb3c-994c0272cb6b",
        "colab": {
          "base_uri": "https://localhost:8080/",
          "height": 34
        }
      },
      "source": [
        "device = torch.device(\"cuda\" if torch.cuda.is_available() else \"cpu\")\n",
        "print(device)"
      ],
      "execution_count": 6,
      "outputs": [
        {
          "output_type": "stream",
          "text": [
            "cuda\n"
          ],
          "name": "stdout"
        }
      ]
    },
    {
      "cell_type": "code",
      "metadata": {
        "id": "PO55eZRcTe_m",
        "colab_type": "code",
        "outputId": "599906c1-ca77-4d15-bdd7-9bd6732b9be7",
        "colab": {
          "base_uri": "https://localhost:8080/",
          "height": 530
        }
      },
      "source": [
        "alexnet = torchvision.models.alexnet(pretrained = True)\n",
        "for param in alexnet.parameters():\n",
        "    param.requires_grad = False\n",
        "\n",
        "#for name, child in alexnet.named_children():\n",
        "#  print(child)\n",
        "#  print(name)\n",
        "\n",
        "alexnet.classifier[6] = nn.Linear(4096,num_classes)\n",
        "input_size = 224\n",
        "\n",
        "model = alexnet.to(device)\n",
        "print(model)"
      ],
      "execution_count": 7,
      "outputs": [
        {
          "output_type": "stream",
          "text": [
            "Downloading: \"https://download.pytorch.org/models/alexnet-owt-4df8aa71.pth\" to /root/.cache/torch/checkpoints/alexnet-owt-4df8aa71.pth\n",
            "100%|██████████| 233M/233M [00:02<00:00, 101MB/s]\n"
          ],
          "name": "stderr"
        },
        {
          "output_type": "stream",
          "text": [
            "AlexNet(\n",
            "  (features): Sequential(\n",
            "    (0): Conv2d(3, 64, kernel_size=(11, 11), stride=(4, 4), padding=(2, 2))\n",
            "    (1): ReLU(inplace=True)\n",
            "    (2): MaxPool2d(kernel_size=3, stride=2, padding=0, dilation=1, ceil_mode=False)\n",
            "    (3): Conv2d(64, 192, kernel_size=(5, 5), stride=(1, 1), padding=(2, 2))\n",
            "    (4): ReLU(inplace=True)\n",
            "    (5): MaxPool2d(kernel_size=3, stride=2, padding=0, dilation=1, ceil_mode=False)\n",
            "    (6): Conv2d(192, 384, kernel_size=(3, 3), stride=(1, 1), padding=(1, 1))\n",
            "    (7): ReLU(inplace=True)\n",
            "    (8): Conv2d(384, 256, kernel_size=(3, 3), stride=(1, 1), padding=(1, 1))\n",
            "    (9): ReLU(inplace=True)\n",
            "    (10): Conv2d(256, 256, kernel_size=(3, 3), stride=(1, 1), padding=(1, 1))\n",
            "    (11): ReLU(inplace=True)\n",
            "    (12): MaxPool2d(kernel_size=3, stride=2, padding=0, dilation=1, ceil_mode=False)\n",
            "  )\n",
            "  (avgpool): AdaptiveAvgPool2d(output_size=(6, 6))\n",
            "  (classifier): Sequential(\n",
            "    (0): Dropout(p=0.5, inplace=False)\n",
            "    (1): Linear(in_features=9216, out_features=4096, bias=True)\n",
            "    (2): ReLU(inplace=True)\n",
            "    (3): Dropout(p=0.5, inplace=False)\n",
            "    (4): Linear(in_features=4096, out_features=4096, bias=True)\n",
            "    (5): ReLU(inplace=True)\n",
            "    (6): Linear(in_features=4096, out_features=9, bias=True)\n",
            "  )\n",
            ")\n"
          ],
          "name": "stdout"
        }
      ]
    },
    {
      "cell_type": "code",
      "metadata": {
        "id": "ijejQvLGsFsj",
        "colab_type": "code",
        "colab": {}
      },
      "source": [
        "criterion = nn.CrossEntropyLoss()\n",
        "criterion = criterion.to(device)\n",
        "\n",
        "# Observe that all parameters are being optimized\n",
        "optimizer_ft = optim.SGD(model.parameters(), lr=0.0015, momentum=0.6)\n",
        "\n",
        "# Decay LR by a factor of 0.1 every 7 epochs\n",
        "exp_lr_scheduler = lr_scheduler.StepLR(optimizer_ft, step_size=3, gamma=0.1)\n"
      ],
      "execution_count": 0,
      "outputs": []
    },
    {
      "cell_type": "code",
      "metadata": {
        "id": "XSJsNLDAXLQs",
        "colab_type": "code",
        "colab": {}
      },
      "source": [
        "def train_model(model, criterion, optimizer, scheduler, num_epochs):\n",
        "    since = time.time()\n",
        "    flag = 0\n",
        "    best_model_wts = copy.deepcopy(model.state_dict())\n",
        "    best_acc = 0.0\n",
        "\n",
        "    for epoch in range(num_epochs):\n",
        "        print('Epoch {}/{}'.format(epoch, num_epochs - 1))\n",
        "        print('-' * 10)\n",
        "\n",
        "        # Each epoch has a training and validation phase\n",
        "        for phase in ['train', 'test']:\n",
        "            if phase == 'train':\n",
        "                if flag == 1:\n",
        "                  scheduler.step()\n",
        "                model.train()  # Set model to training mode\n",
        "            else:\n",
        "                model.eval()   # Set model to evaluate mode\n",
        "\n",
        "            current_loss = 0.0\n",
        "            current_corrects = 0\n",
        "\n",
        "            # Here's where the training happens\n",
        "            print('Iterating through data...')\n",
        "\n",
        "            for inputs, labels in dataloader[phase]:\n",
        "                inputs = inputs.to(device)\n",
        "                labels = labels.to(device)\n",
        "\n",
        "                # We need to zero the gradients, don't forget it\n",
        "                optimizer.zero_grad()\n",
        "                flag = 1\n",
        "                # Time to carry out the forward training pass\n",
        "                # We only need to log the loss stats if we are in training phase\n",
        "                with torch.set_grad_enabled(phase == 'train'):\n",
        "                    outputs = model(inputs)\n",
        "                    _, preds = torch.max(outputs, 1)\n",
        "                    loss = criterion(outputs, labels)\n",
        "\n",
        "                    # backward + optimize only if in training phase\n",
        "                    if phase == 'train':\n",
        "                        loss.backward()\n",
        "                        optimizer.step()\n",
        "\n",
        "                # We want variables to hold the loss statistics\n",
        "                current_loss += loss.item() * inputs.size(0)\n",
        "                current_corrects += torch.sum(preds == labels.data)\n",
        "\n",
        "            epoch_loss = current_loss / dataset_sizes[phase]\n",
        "            epoch_acc = current_corrects.double() / dataset_sizes[phase]\n",
        "\n",
        "            print('{} Loss: {:.4f} Acc: {:.4f}'.format(\n",
        "                phase, epoch_loss, epoch_acc))\n",
        "\n",
        "            # Make a copy of the model if the accuracy on the validation set has improved\n",
        "            if phase == 'test' and epoch_acc > best_acc:\n",
        "                best_acc = epoch_acc\n",
        "                best_model_wts = copy.deepcopy(model.state_dict())\n",
        "\n",
        "        print()\n",
        "\n",
        "    time_since = time.time() - since\n",
        "    print('Training complete in {:.0f}m {:.0f}s'.format(\n",
        "        time_since // 60, time_since % 60))\n",
        "    print('Best val Acc: {:4f}'.format(best_acc))\n",
        "\n",
        "    # Now we'll load in the best model weights and return it\n",
        "    model.load_state_dict(best_model_wts)\n",
        "    return model"
      ],
      "execution_count": 0,
      "outputs": []
    },
    {
      "cell_type": "code",
      "metadata": {
        "id": "bRbU3LLMvUPn",
        "colab_type": "code",
        "colab": {}
      },
      "source": [
        "def predict_model(model, num_images=6):\n",
        "    was_training = model.training\n",
        "    model.eval()\n",
        "    images_handeled = 0\n",
        "    fig = plt.figure()\n",
        "\n",
        "    with torch.no_grad():\n",
        "        for i, (inputs, labels) in enumerate(dataloader['test']):\n",
        "            inputs = inputs.to(device)\n",
        "            labels = labels.to(device)\n",
        "            outputs = model(inputs)\n",
        "            _, preds = torch.max(outputs, 1)\n",
        "\n",
        "            for j in range(inputs.size()[0]):\n",
        "                images_handeled += 1\n",
        "                ax = plt.subplot(num_images//2, 2, images_handeled)\n",
        "                ax.axis('off')\n",
        "                ax.set_title('predicted: {}'.format(class_names[preds[j]]))\n",
        "                imshow(inputs.cpu().data[j])\n",
        "\n",
        "                if images_handeled == num_images:\n",
        "                    model.train(mode=was_training)\n",
        "                    return\n",
        "        model.train(mode=was_training)"
      ],
      "execution_count": 0,
      "outputs": []
    },
    {
      "cell_type": "code",
      "metadata": {
        "id": "MuS0znOnwOBN",
        "colab_type": "code",
        "outputId": "f0a6cef2-f129-4072-d511-7078530ec7f8",
        "colab": {
          "base_uri": "https://localhost:8080/",
          "height": 1000
        }
      },
      "source": [
        "base_model = train_model(model, criterion, optimizer_ft, exp_lr_scheduler, 25)\n",
        "predict_model(base_model)\n",
        "plt.show()"
      ],
      "execution_count": 11,
      "outputs": [
        {
          "output_type": "stream",
          "text": [
            "Epoch 0/24\n",
            "----------\n",
            "Iterating through data...\n",
            "train Loss: 1.2603 Acc: 0.6180\n",
            "Iterating through data...\n",
            "test Loss: 1.0640 Acc: 0.6812\n",
            "\n",
            "Epoch 1/24\n",
            "----------\n",
            "Iterating through data...\n",
            "train Loss: 0.6526 Acc: 0.7931\n",
            "Iterating through data...\n",
            "test Loss: 1.0099 Acc: 0.6948\n",
            "\n",
            "Epoch 2/24\n",
            "----------\n",
            "Iterating through data...\n",
            "train Loss: 0.4398 Acc: 0.8547\n",
            "Iterating through data...\n",
            "test Loss: 0.9955 Acc: 0.7139\n",
            "\n",
            "Epoch 3/24\n",
            "----------\n",
            "Iterating through data...\n",
            "train Loss: 0.2358 Acc: 0.9287\n",
            "Iterating through data...\n",
            "test Loss: 0.9254 Acc: 0.7330\n",
            "\n",
            "Epoch 4/24\n",
            "----------\n",
            "Iterating through data...\n",
            "train Loss: 0.2095 Acc: 0.9405\n",
            "Iterating through data...\n",
            "test Loss: 0.9150 Acc: 0.7302\n",
            "\n",
            "Epoch 5/24\n",
            "----------\n",
            "Iterating through data...\n",
            "train Loss: 0.1929 Acc: 0.9384\n",
            "Iterating through data...\n",
            "test Loss: 0.9042 Acc: 0.7302\n",
            "\n",
            "Epoch 6/24\n",
            "----------\n",
            "Iterating through data...\n",
            "train Loss: 0.1902 Acc: 0.9433\n",
            "Iterating through data...\n",
            "test Loss: 0.9039 Acc: 0.7302\n",
            "\n",
            "Epoch 7/24\n",
            "----------\n",
            "Iterating through data...\n",
            "train Loss: 0.1792 Acc: 0.9460\n",
            "Iterating through data...\n",
            "test Loss: 0.9040 Acc: 0.7330\n",
            "\n",
            "Epoch 8/24\n",
            "----------\n",
            "Iterating through data...\n",
            "train Loss: 0.1690 Acc: 0.9599\n",
            "Iterating through data...\n",
            "test Loss: 0.9044 Acc: 0.7302\n",
            "\n",
            "Epoch 9/24\n",
            "----------\n",
            "Iterating through data...\n",
            "train Loss: 0.1737 Acc: 0.9543\n",
            "Iterating through data...\n",
            "test Loss: 0.9044 Acc: 0.7302\n",
            "\n",
            "Epoch 10/24\n",
            "----------\n",
            "Iterating through data...\n",
            "train Loss: 0.1781 Acc: 0.9412\n",
            "Iterating through data...\n",
            "test Loss: 0.9044 Acc: 0.7302\n",
            "\n",
            "Epoch 11/24\n",
            "----------\n",
            "Iterating through data...\n",
            "train Loss: 0.1671 Acc: 0.9550\n",
            "Iterating through data...\n",
            "test Loss: 0.9045 Acc: 0.7302\n",
            "\n",
            "Epoch 12/24\n",
            "----------\n",
            "Iterating through data...\n",
            "train Loss: 0.1794 Acc: 0.9453\n",
            "Iterating through data...\n",
            "test Loss: 0.9045 Acc: 0.7302\n",
            "\n",
            "Epoch 13/24\n",
            "----------\n",
            "Iterating through data...\n",
            "train Loss: 0.1776 Acc: 0.9516\n",
            "Iterating through data...\n",
            "test Loss: 0.9045 Acc: 0.7302\n",
            "\n",
            "Epoch 14/24\n",
            "----------\n",
            "Iterating through data...\n",
            "train Loss: 0.1844 Acc: 0.9481\n",
            "Iterating through data...\n",
            "test Loss: 0.9045 Acc: 0.7302\n",
            "\n",
            "Epoch 15/24\n",
            "----------\n",
            "Iterating through data...\n",
            "train Loss: 0.1794 Acc: 0.9488\n",
            "Iterating through data...\n",
            "test Loss: 0.9045 Acc: 0.7302\n",
            "\n",
            "Epoch 16/24\n",
            "----------\n",
            "Iterating through data...\n",
            "train Loss: 0.1845 Acc: 0.9474\n",
            "Iterating through data...\n",
            "test Loss: 0.9045 Acc: 0.7302\n",
            "\n",
            "Epoch 17/24\n",
            "----------\n",
            "Iterating through data...\n",
            "train Loss: 0.1727 Acc: 0.9516\n",
            "Iterating through data...\n",
            "test Loss: 0.9045 Acc: 0.7302\n",
            "\n",
            "Epoch 18/24\n",
            "----------\n",
            "Iterating through data...\n",
            "train Loss: 0.1730 Acc: 0.9488\n",
            "Iterating through data...\n",
            "test Loss: 0.9045 Acc: 0.7302\n",
            "\n",
            "Epoch 19/24\n",
            "----------\n",
            "Iterating through data...\n",
            "train Loss: 0.1634 Acc: 0.9599\n",
            "Iterating through data...\n",
            "test Loss: 0.9045 Acc: 0.7302\n",
            "\n",
            "Epoch 20/24\n",
            "----------\n",
            "Iterating through data...\n",
            "train Loss: 0.1790 Acc: 0.9502\n",
            "Iterating through data...\n",
            "test Loss: 0.9045 Acc: 0.7302\n",
            "\n",
            "Epoch 21/24\n",
            "----------\n",
            "Iterating through data...\n",
            "train Loss: 0.1729 Acc: 0.9550\n",
            "Iterating through data...\n",
            "test Loss: 0.9045 Acc: 0.7302\n",
            "\n",
            "Epoch 22/24\n",
            "----------\n",
            "Iterating through data...\n",
            "train Loss: 0.1726 Acc: 0.9557\n",
            "Iterating through data...\n",
            "test Loss: 0.9045 Acc: 0.7302\n",
            "\n",
            "Epoch 23/24\n",
            "----------\n",
            "Iterating through data...\n",
            "train Loss: 0.1759 Acc: 0.9516\n",
            "Iterating through data...\n",
            "test Loss: 0.9045 Acc: 0.7302\n",
            "\n",
            "Epoch 24/24\n",
            "----------\n",
            "Iterating through data...\n",
            "train Loss: 0.1735 Acc: 0.9543\n",
            "Iterating through data...\n",
            "test Loss: 0.9045 Acc: 0.7302\n",
            "\n",
            "Training complete in 6m 42s\n",
            "Best val Acc: 0.732970\n"
          ],
          "name": "stdout"
        },
        {
          "output_type": "stream",
          "text": [
            "Clipping input data to the valid range for imshow with RGB data ([0..1] for floats or [0..255] for integers).\n"
          ],
          "name": "stderr"
        },
        {
          "output_type": "display_data",
          "data": {
            "image/png": "[encoded data removed]",
            "text/plain": [
              "<Figure size 432x288 with 1 Axes>"
            ]
          },
          "metadata": {
            "tags": []
          }
        },
        {
          "output_type": "stream",
          "text": [
            "Clipping input data to the valid range for imshow with RGB data ([0..1] for floats or [0..255] for integers).\n"
          ],
          "name": "stderr"
        },
        {
          "output_type": "display_data",
          "data": {
            "image/png": "[encoded data removed]",
            "text/plain": [
              "<Figure size 432x288 with 1 Axes>"
            ]
          },
          "metadata": {
            "tags": []
          }
        },
        {
          "output_type": "stream",
          "text": [
            "Clipping input data to the valid range for imshow with RGB data ([0..1] for floats or [0..255] for integers).\n"
          ],
          "name": "stderr"
        },
        {
          "output_type": "display_data",
          "data": {
            "image/png": "[encoded data removed]",
            "text/plain": [
              "<Figure size 432x288 with 1 Axes>"
            ]
          },
          "metadata": {
            "tags": []
          }
        },
        {
          "output_type": "stream",
          "text": [
            "Clipping input data to the valid range for imshow with RGB data ([0..1] for floats or [0..255] for integers).\n"
          ],
          "name": "stderr"
        },
        {
          "output_type": "display_data",
          "data": {
            "image/png": "[encoded data removed]",
            "text/plain": [
              "<Figure size 432x288 with 1 Axes>"
            ]
          },
          "metadata": {
            "tags": []
          }
        },
        {
          "output_type": "stream",
          "text": [
            "Clipping input data to the valid range for imshow with RGB data ([0..1] for floats or [0..255] for integers).\n"
          ],
          "name": "stderr"
        },
        {
          "output_type": "display_data",
          "data": {
            "image/png": "[encoded data removed]",
            "text/plain": [
              "<Figure size 432x288 with 1 Axes>"
            ]
          },
          "metadata": {
            "tags": []
          }
        },
        {
          "output_type": "stream",
          "text": [
            "Clipping input data to the valid range for imshow with RGB data ([0..1] for floats or [0..255] for integers).\n"
          ],
          "name": "stderr"
        },
        {
          "output_type": "display_data",
          "data": {
            "image/png": "[encoded data removed]",
            "text/plain": [
              "<Figure size 432x288 with 1 Axes>"
            ]
          },
          "metadata": {
            "tags": []
          }
        }
      ]
    },
    {
      "cell_type": "code",
      "metadata": {
        "id": "mo4GbDD-4Jn5",
        "colab_type": "code",
        "colab": {}
      },
      "source": [
        "model_save_name = 'featrmodel.pt'\n",
        "path = F\"/content/drive/My Drive/{model_save_name}\" \n",
        "torch.save(base_model.state_dict(), path)"
      ],
      "execution_count": 0,
      "outputs": []
    },
    {
      "cell_type": "code",
      "metadata": {
        "id": "VZDYAUJdDuxV",
        "colab_type": "code",
        "outputId": "6e8a5bd7-e314-455b-d58e-2d2f7ea080b5",
        "colab": {
          "base_uri": "https://localhost:8080/",
          "height": 399
        }
      },
      "source": [
        "confusion_matrix = torch.zeros(num_classes, num_classes)\n",
        "with torch.no_grad():\n",
        "    for i, (inputs, classes) in enumerate(dataloader['test']):\n",
        "        inputs = inputs.to(device)\n",
        "        classes = classes.to(device)\n",
        "        # print(classes)\n",
        "        outputs = base_model(inputs)\n",
        "        _, preds = torch.max(outputs, 1)\n",
        "        # print(preds)\n",
        "        for t, p in zip(classes.view(-1), preds.view(-1)):\n",
        "                confusion_matrix[t.long(), p.long()] += 1\n",
        "\n",
        "print(confusion_matrix)\n",
        "cm = confusion_matrix.cpu().numpy()\n",
        "df = pd.DataFrame(cm, index = class_names, columns = class_names)\n",
        "plt.savefig('conf_finetune.png')\n",
        "df.style.background_gradient(cmap='Blues')\n"
      ],
      "execution_count": 13,
      "outputs": [
        {
          "output_type": "stream",
          "text": [
            "tensor([[26.,  0.,  5.,  5.,  1.,  0.,  1.,  2.,  0.],\n",
            "        [ 0., 34.,  2.,  1.,  1.,  1.,  0.,  0.,  2.],\n",
            "        [ 0.,  0., 35.,  1.,  0.,  0.,  1.,  4.,  0.],\n",
            "        [ 2.,  1.,  1., 30.,  1.,  0.,  2.,  3.,  1.],\n",
            "        [ 0.,  5.,  1.,  1., 29.,  1.,  0.,  2.,  1.],\n",
            "        [ 0.,  0.,  0.,  1.,  1., 39.,  0.,  0.,  0.],\n",
            "        [ 4.,  0.,  2.,  2.,  3.,  1., 27.,  2.,  0.],\n",
            "        [ 3.,  3.,  5.,  2.,  2.,  0.,  5., 19.,  2.],\n",
            "        [ 0.,  5.,  1.,  2.,  2.,  1.,  0.,  0., 30.]])\n"
          ],
          "name": "stdout"
        },
        {
          "output_type": "execute_result",
          "data": {
            "text/html": [
              "<style  type=\"text/css\" >\n",
              "    #T_10f71b40_1258_11ea_9469_0242ac1c0002row0_col0 {\n",
              "            background-color:  #08306b;\n",
              "            color:  #f1f1f1;\n",
              "        }    #T_10f71b40_1258_11ea_9469_0242ac1c0002row0_col1 {\n",
              "            background-color:  #f7fbff;\n",
              "            color:  #000000;\n",
              "        }    #T_10f71b40_1258_11ea_9469_0242ac1c0002row0_col2 {\n",
              "            background-color:  #dbe9f6;\n",
              "            color:  #000000;\n",
              "        }    #T_10f71b40_1258_11ea_9469_0242ac1c0002row0_col3 {\n",
              "            background-color:  #dce9f6;\n",
              "            color:  #000000;\n",
              "        }    #T_10f71b40_1258_11ea_9469_0242ac1c0002row0_col4 {\n",
              "            background-color:  #f1f7fd;\n",
              "            color:  #000000;\n",
              "        }    #T_10f71b40_1258_11ea_9469_0242ac1c0002row0_col5 {\n",
              "            background-color:  #f7fbff;\n",
              "            color:  #000000;\n",
              "        }    #T_10f71b40_1258_11ea_9469_0242ac1c0002row0_col6 {\n",
              "            background-color:  #f0f6fd;\n",
              "            color:  #000000;\n",
              "        }    #T_10f71b40_1258_11ea_9469_0242ac1c0002row0_col7 {\n",
              "            background-color:  #e3eef8;\n",
              "            color:  #000000;\n",
              "        }    #T_10f71b40_1258_11ea_9469_0242ac1c0002row0_col8 {\n",
              "            background-color:  #f7fbff;\n",
              "            color:  #000000;\n",
              "        }    #T_10f71b40_1258_11ea_9469_0242ac1c0002row1_col0 {\n",
              "            background-color:  #f7fbff;\n",
              "            color:  #000000;\n",
              "        }    #T_10f71b40_1258_11ea_9469_0242ac1c0002row1_col1 {\n",
              "            background-color:  #08306b;\n",
              "            color:  #f1f1f1;\n",
              "        }    #T_10f71b40_1258_11ea_9469_0242ac1c0002row1_col2 {\n",
              "            background-color:  #ecf4fb;\n",
              "            color:  #000000;\n",
              "        }    #T_10f71b40_1258_11ea_9469_0242ac1c0002row1_col3 {\n",
              "            background-color:  #f7fbff;\n",
              "            color:  #000000;\n",
              "        }    #T_10f71b40_1258_11ea_9469_0242ac1c0002row1_col4 {\n",
              "            background-color:  #f1f7fd;\n",
              "            color:  #000000;\n",
              "        }    #T_10f71b40_1258_11ea_9469_0242ac1c0002row1_col5 {\n",
              "            background-color:  #f2f8fd;\n",
              "            color:  #000000;\n",
              "        }    #T_10f71b40_1258_11ea_9469_0242ac1c0002row1_col6 {\n",
              "            background-color:  #f7fbff;\n",
              "            color:  #000000;\n",
              "        }    #T_10f71b40_1258_11ea_9469_0242ac1c0002row1_col7 {\n",
              "            background-color:  #f7fbff;\n",
              "            color:  #000000;\n",
              "        }    #T_10f71b40_1258_11ea_9469_0242ac1c0002row1_col8 {\n",
              "            background-color:  #eaf2fb;\n",
              "            color:  #000000;\n",
              "        }    #T_10f71b40_1258_11ea_9469_0242ac1c0002row2_col0 {\n",
              "            background-color:  #f7fbff;\n",
              "            color:  #000000;\n",
              "        }    #T_10f71b40_1258_11ea_9469_0242ac1c0002row2_col1 {\n",
              "            background-color:  #f7fbff;\n",
              "            color:  #000000;\n",
              "        }    #T_10f71b40_1258_11ea_9469_0242ac1c0002row2_col2 {\n",
              "            background-color:  #08306b;\n",
              "            color:  #f1f1f1;\n",
              "        }    #T_10f71b40_1258_11ea_9469_0242ac1c0002row2_col3 {\n",
              "            background-color:  #f7fbff;\n",
              "            color:  #000000;\n",
              "        }    #T_10f71b40_1258_11ea_9469_0242ac1c0002row2_col4 {\n",
              "            background-color:  #f7fbff;\n",
              "            color:  #000000;\n",
              "        }    #T_10f71b40_1258_11ea_9469_0242ac1c0002row2_col5 {\n",
              "            background-color:  #f7fbff;\n",
              "            color:  #000000;\n",
              "        }    #T_10f71b40_1258_11ea_9469_0242ac1c0002row2_col6 {\n",
              "            background-color:  #f0f6fd;\n",
              "            color:  #000000;\n",
              "        }    #T_10f71b40_1258_11ea_9469_0242ac1c0002row2_col7 {\n",
              "            background-color:  #cee0f2;\n",
              "            color:  #000000;\n",
              "        }    #T_10f71b40_1258_11ea_9469_0242ac1c0002row2_col8 {\n",
              "            background-color:  #f7fbff;\n",
              "            color:  #000000;\n",
              "        }    #T_10f71b40_1258_11ea_9469_0242ac1c0002row3_col0 {\n",
              "            background-color:  #e8f1fa;\n",
              "            color:  #000000;\n",
              "        }    #T_10f71b40_1258_11ea_9469_0242ac1c0002row3_col1 {\n",
              "            background-color:  #f2f7fd;\n",
              "            color:  #000000;\n",
              "        }    #T_10f71b40_1258_11ea_9469_0242ac1c0002row3_col2 {\n",
              "            background-color:  #f2f7fd;\n",
              "            color:  #000000;\n",
              "        }    #T_10f71b40_1258_11ea_9469_0242ac1c0002row3_col3 {\n",
              "            background-color:  #08306b;\n",
              "            color:  #f1f1f1;\n",
              "        }    #T_10f71b40_1258_11ea_9469_0242ac1c0002row3_col4 {\n",
              "            background-color:  #f1f7fd;\n",
              "            color:  #000000;\n",
              "        }    #T_10f71b40_1258_11ea_9469_0242ac1c0002row3_col5 {\n",
              "            background-color:  #f7fbff;\n",
              "            color:  #000000;\n",
              "        }    #T_10f71b40_1258_11ea_9469_0242ac1c0002row3_col6 {\n",
              "            background-color:  #e9f2fa;\n",
              "            color:  #000000;\n",
              "        }    #T_10f71b40_1258_11ea_9469_0242ac1c0002row3_col7 {\n",
              "            background-color:  #d8e7f5;\n",
              "            color:  #000000;\n",
              "        }    #T_10f71b40_1258_11ea_9469_0242ac1c0002row3_col8 {\n",
              "            background-color:  #f1f7fd;\n",
              "            color:  #000000;\n",
              "        }    #T_10f71b40_1258_11ea_9469_0242ac1c0002row4_col0 {\n",
              "            background-color:  #f7fbff;\n",
              "            color:  #000000;\n",
              "        }    #T_10f71b40_1258_11ea_9469_0242ac1c0002row4_col1 {\n",
              "            background-color:  #dae8f6;\n",
              "            color:  #000000;\n",
              "        }    #T_10f71b40_1258_11ea_9469_0242ac1c0002row4_col2 {\n",
              "            background-color:  #f2f7fd;\n",
              "            color:  #000000;\n",
              "        }    #T_10f71b40_1258_11ea_9469_0242ac1c0002row4_col3 {\n",
              "            background-color:  #f7fbff;\n",
              "            color:  #000000;\n",
              "        }    #T_10f71b40_1258_11ea_9469_0242ac1c0002row4_col4 {\n",
              "            background-color:  #08306b;\n",
              "            color:  #f1f1f1;\n",
              "        }    #T_10f71b40_1258_11ea_9469_0242ac1c0002row4_col5 {\n",
              "            background-color:  #f2f8fd;\n",
              "            color:  #000000;\n",
              "        }    #T_10f71b40_1258_11ea_9469_0242ac1c0002row4_col6 {\n",
              "            background-color:  #f7fbff;\n",
              "            color:  #000000;\n",
              "        }    #T_10f71b40_1258_11ea_9469_0242ac1c0002row4_col7 {\n",
              "            background-color:  #e3eef8;\n",
              "            color:  #000000;\n",
              "        }    #T_10f71b40_1258_11ea_9469_0242ac1c0002row4_col8 {\n",
              "            background-color:  #f1f7fd;\n",
              "            color:  #000000;\n",
              "        }    #T_10f71b40_1258_11ea_9469_0242ac1c0002row5_col0 {\n",
              "            background-color:  #f7fbff;\n",
              "            color:  #000000;\n",
              "        }    #T_10f71b40_1258_11ea_9469_0242ac1c0002row5_col1 {\n",
              "            background-color:  #f7fbff;\n",
              "            color:  #000000;\n",
              "        }    #T_10f71b40_1258_11ea_9469_0242ac1c0002row5_col2 {\n",
              "            background-color:  #f7fbff;\n",
              "            color:  #000000;\n",
              "        }    #T_10f71b40_1258_11ea_9469_0242ac1c0002row5_col3 {\n",
              "            background-color:  #f7fbff;\n",
              "            color:  #000000;\n",
              "        }    #T_10f71b40_1258_11ea_9469_0242ac1c0002row5_col4 {\n",
              "            background-color:  #f1f7fd;\n",
              "            color:  #000000;\n",
              "        }    #T_10f71b40_1258_11ea_9469_0242ac1c0002row5_col5 {\n",
              "            background-color:  #08306b;\n",
              "            color:  #f1f1f1;\n",
              "        }    #T_10f71b40_1258_11ea_9469_0242ac1c0002row5_col6 {\n",
              "            background-color:  #f7fbff;\n",
              "            color:  #000000;\n",
              "        }    #T_10f71b40_1258_11ea_9469_0242ac1c0002row5_col7 {\n",
              "            background-color:  #f7fbff;\n",
              "            color:  #000000;\n",
              "        }    #T_10f71b40_1258_11ea_9469_0242ac1c0002row5_col8 {\n",
              "            background-color:  #f7fbff;\n",
              "            color:  #000000;\n",
              "        }    #T_10f71b40_1258_11ea_9469_0242ac1c0002row6_col0 {\n",
              "            background-color:  #d9e7f5;\n",
              "            color:  #000000;\n",
              "        }    #T_10f71b40_1258_11ea_9469_0242ac1c0002row6_col1 {\n",
              "            background-color:  #f7fbff;\n",
              "            color:  #000000;\n",
              "        }    #T_10f71b40_1258_11ea_9469_0242ac1c0002row6_col2 {\n",
              "            background-color:  #ecf4fb;\n",
              "            color:  #000000;\n",
              "        }    #T_10f71b40_1258_11ea_9469_0242ac1c0002row6_col3 {\n",
              "            background-color:  #f1f7fd;\n",
              "            color:  #000000;\n",
              "        }    #T_10f71b40_1258_11ea_9469_0242ac1c0002row6_col4 {\n",
              "            background-color:  #e3eef8;\n",
              "            color:  #000000;\n",
              "        }    #T_10f71b40_1258_11ea_9469_0242ac1c0002row6_col5 {\n",
              "            background-color:  #f2f8fd;\n",
              "            color:  #000000;\n",
              "        }    #T_10f71b40_1258_11ea_9469_0242ac1c0002row6_col6 {\n",
              "            background-color:  #08306b;\n",
              "            color:  #f1f1f1;\n",
              "        }    #T_10f71b40_1258_11ea_9469_0242ac1c0002row6_col7 {\n",
              "            background-color:  #e3eef8;\n",
              "            color:  #000000;\n",
              "        }    #T_10f71b40_1258_11ea_9469_0242ac1c0002row6_col8 {\n",
              "            background-color:  #f7fbff;\n",
              "            color:  #000000;\n",
              "        }    #T_10f71b40_1258_11ea_9469_0242ac1c0002row7_col0 {\n",
              "            background-color:  #e0ecf8;\n",
              "            color:  #000000;\n",
              "        }    #T_10f71b40_1258_11ea_9469_0242ac1c0002row7_col1 {\n",
              "            background-color:  #e6f0f9;\n",
              "            color:  #000000;\n",
              "        }    #T_10f71b40_1258_11ea_9469_0242ac1c0002row7_col2 {\n",
              "            background-color:  #dbe9f6;\n",
              "            color:  #000000;\n",
              "        }    #T_10f71b40_1258_11ea_9469_0242ac1c0002row7_col3 {\n",
              "            background-color:  #f1f7fd;\n",
              "            color:  #000000;\n",
              "        }    #T_10f71b40_1258_11ea_9469_0242ac1c0002row7_col4 {\n",
              "            background-color:  #eaf2fb;\n",
              "            color:  #000000;\n",
              "        }    #T_10f71b40_1258_11ea_9469_0242ac1c0002row7_col5 {\n",
              "            background-color:  #f7fbff;\n",
              "            color:  #000000;\n",
              "        }    #T_10f71b40_1258_11ea_9469_0242ac1c0002row7_col6 {\n",
              "            background-color:  #d3e3f3;\n",
              "            color:  #000000;\n",
              "        }    #T_10f71b40_1258_11ea_9469_0242ac1c0002row7_col7 {\n",
              "            background-color:  #08306b;\n",
              "            color:  #f1f1f1;\n",
              "        }    #T_10f71b40_1258_11ea_9469_0242ac1c0002row7_col8 {\n",
              "            background-color:  #eaf2fb;\n",
              "            color:  #000000;\n",
              "        }    #T_10f71b40_1258_11ea_9469_0242ac1c0002row8_col0 {\n",
              "            background-color:  #f7fbff;\n",
              "            color:  #000000;\n",
              "        }    #T_10f71b40_1258_11ea_9469_0242ac1c0002row8_col1 {\n",
              "            background-color:  #dae8f6;\n",
              "            color:  #000000;\n",
              "        }    #T_10f71b40_1258_11ea_9469_0242ac1c0002row8_col2 {\n",
              "            background-color:  #f2f7fd;\n",
              "            color:  #000000;\n",
              "        }    #T_10f71b40_1258_11ea_9469_0242ac1c0002row8_col3 {\n",
              "            background-color:  #f1f7fd;\n",
              "            color:  #000000;\n",
              "        }    #T_10f71b40_1258_11ea_9469_0242ac1c0002row8_col4 {\n",
              "            background-color:  #eaf2fb;\n",
              "            color:  #000000;\n",
              "        }    #T_10f71b40_1258_11ea_9469_0242ac1c0002row8_col5 {\n",
              "            background-color:  #f2f8fd;\n",
              "            color:  #000000;\n",
              "        }    #T_10f71b40_1258_11ea_9469_0242ac1c0002row8_col6 {\n",
              "            background-color:  #f7fbff;\n",
              "            color:  #000000;\n",
              "        }    #T_10f71b40_1258_11ea_9469_0242ac1c0002row8_col7 {\n",
              "            background-color:  #f7fbff;\n",
              "            color:  #000000;\n",
              "        }    #T_10f71b40_1258_11ea_9469_0242ac1c0002row8_col8 {\n",
              "            background-color:  #08306b;\n",
              "            color:  #f1f1f1;\n",
              "        }</style><table id=\"T_10f71b40_1258_11ea_9469_0242ac1c0002\" ><thead>    <tr>        <th class=\"blank level0\" ></th>        <th class=\"col_heading level0 col0\" >abbey</th>        <th class=\"col_heading level0 col1\" >airport_terminal</th>        <th class=\"col_heading level0 col2\" >alley</th>        <th class=\"col_heading level0 col3\" >amphitheater</th>        <th class=\"col_heading level0 col4\" >amusement_park</th>        <th class=\"col_heading level0 col5\" >aquarium</th>        <th class=\"col_heading level0 col6\" >aqueduct</th>        <th class=\"col_heading level0 col7\" >arch</th>        <th class=\"col_heading level0 col8\" >art_gallery</th>    </tr></thead><tbody>\n",
              "                <tr>\n",
              "                        <th id=\"T_10f71b40_1258_11ea_9469_0242ac1c0002level0_row0\" class=\"row_heading level0 row0\" >abbey</th>\n",
              "                        <td id=\"T_10f71b40_1258_11ea_9469_0242ac1c0002row0_col0\" class=\"data row0 col0\" >26</td>\n",
              "                        <td id=\"T_10f71b40_1258_11ea_9469_0242ac1c0002row0_col1\" class=\"data row0 col1\" >0</td>\n",
              "                        <td id=\"T_10f71b40_1258_11ea_9469_0242ac1c0002row0_col2\" class=\"data row0 col2\" >5</td>\n",
              "                        <td id=\"T_10f71b40_1258_11ea_9469_0242ac1c0002row0_col3\" class=\"data row0 col3\" >5</td>\n",
              "                        <td id=\"T_10f71b40_1258_11ea_9469_0242ac1c0002row0_col4\" class=\"data row0 col4\" >1</td>\n",
              "                        <td id=\"T_10f71b40_1258_11ea_9469_0242ac1c0002row0_col5\" class=\"data row0 col5\" >0</td>\n",
              "                        <td id=\"T_10f71b40_1258_11ea_9469_0242ac1c0002row0_col6\" class=\"data row0 col6\" >1</td>\n",
              "                        <td id=\"T_10f71b40_1258_11ea_9469_0242ac1c0002row0_col7\" class=\"data row0 col7\" >2</td>\n",
              "                        <td id=\"T_10f71b40_1258_11ea_9469_0242ac1c0002row0_col8\" class=\"data row0 col8\" >0</td>\n",
              "            </tr>\n",
              "            <tr>\n",
              "                        <th id=\"T_10f71b40_1258_11ea_9469_0242ac1c0002level0_row1\" class=\"row_heading level0 row1\" >airport_terminal</th>\n",
              "                        <td id=\"T_10f71b40_1258_11ea_9469_0242ac1c0002row1_col0\" class=\"data row1 col0\" >0</td>\n",
              "                        <td id=\"T_10f71b40_1258_11ea_9469_0242ac1c0002row1_col1\" class=\"data row1 col1\" >34</td>\n",
              "                        <td id=\"T_10f71b40_1258_11ea_9469_0242ac1c0002row1_col2\" class=\"data row1 col2\" >2</td>\n",
              "                        <td id=\"T_10f71b40_1258_11ea_9469_0242ac1c0002row1_col3\" class=\"data row1 col3\" >1</td>\n",
              "                        <td id=\"T_10f71b40_1258_11ea_9469_0242ac1c0002row1_col4\" class=\"data row1 col4\" >1</td>\n",
              "                        <td id=\"T_10f71b40_1258_11ea_9469_0242ac1c0002row1_col5\" class=\"data row1 col5\" >1</td>\n",
              "                        <td id=\"T_10f71b40_1258_11ea_9469_0242ac1c0002row1_col6\" class=\"data row1 col6\" >0</td>\n",
              "                        <td id=\"T_10f71b40_1258_11ea_9469_0242ac1c0002row1_col7\" class=\"data row1 col7\" >0</td>\n",
              "                        <td id=\"T_10f71b40_1258_11ea_9469_0242ac1c0002row1_col8\" class=\"data row1 col8\" >2</td>\n",
              "            </tr>\n",
              "            <tr>\n",
              "                        <th id=\"T_10f71b40_1258_11ea_9469_0242ac1c0002level0_row2\" class=\"row_heading level0 row2\" >alley</th>\n",
              "                        <td id=\"T_10f71b40_1258_11ea_9469_0242ac1c0002row2_col0\" class=\"data row2 col0\" >0</td>\n",
              "                        <td id=\"T_10f71b40_1258_11ea_9469_0242ac1c0002row2_col1\" class=\"data row2 col1\" >0</td>\n",
              "                        <td id=\"T_10f71b40_1258_11ea_9469_0242ac1c0002row2_col2\" class=\"data row2 col2\" >35</td>\n",
              "                        <td id=\"T_10f71b40_1258_11ea_9469_0242ac1c0002row2_col3\" class=\"data row2 col3\" >1</td>\n",
              "                        <td id=\"T_10f71b40_1258_11ea_9469_0242ac1c0002row2_col4\" class=\"data row2 col4\" >0</td>\n",
              "                        <td id=\"T_10f71b40_1258_11ea_9469_0242ac1c0002row2_col5\" class=\"data row2 col5\" >0</td>\n",
              "                        <td id=\"T_10f71b40_1258_11ea_9469_0242ac1c0002row2_col6\" class=\"data row2 col6\" >1</td>\n",
              "                        <td id=\"T_10f71b40_1258_11ea_9469_0242ac1c0002row2_col7\" class=\"data row2 col7\" >4</td>\n",
              "                        <td id=\"T_10f71b40_1258_11ea_9469_0242ac1c0002row2_col8\" class=\"data row2 col8\" >0</td>\n",
              "            </tr>\n",
              "            <tr>\n",
              "                        <th id=\"T_10f71b40_1258_11ea_9469_0242ac1c0002level0_row3\" class=\"row_heading level0 row3\" >amphitheater</th>\n",
              "                        <td id=\"T_10f71b40_1258_11ea_9469_0242ac1c0002row3_col0\" class=\"data row3 col0\" >2</td>\n",
              "                        <td id=\"T_10f71b40_1258_11ea_9469_0242ac1c0002row3_col1\" class=\"data row3 col1\" >1</td>\n",
              "                        <td id=\"T_10f71b40_1258_11ea_9469_0242ac1c0002row3_col2\" class=\"data row3 col2\" >1</td>\n",
              "                        <td id=\"T_10f71b40_1258_11ea_9469_0242ac1c0002row3_col3\" class=\"data row3 col3\" >30</td>\n",
              "                        <td id=\"T_10f71b40_1258_11ea_9469_0242ac1c0002row3_col4\" class=\"data row3 col4\" >1</td>\n",
              "                        <td id=\"T_10f71b40_1258_11ea_9469_0242ac1c0002row3_col5\" class=\"data row3 col5\" >0</td>\n",
              "                        <td id=\"T_10f71b40_1258_11ea_9469_0242ac1c0002row3_col6\" class=\"data row3 col6\" >2</td>\n",
              "                        <td id=\"T_10f71b40_1258_11ea_9469_0242ac1c0002row3_col7\" class=\"data row3 col7\" >3</td>\n",
              "                        <td id=\"T_10f71b40_1258_11ea_9469_0242ac1c0002row3_col8\" class=\"data row3 col8\" >1</td>\n",
              "            </tr>\n",
              "            <tr>\n",
              "                        <th id=\"T_10f71b40_1258_11ea_9469_0242ac1c0002level0_row4\" class=\"row_heading level0 row4\" >amusement_park</th>\n",
              "                        <td id=\"T_10f71b40_1258_11ea_9469_0242ac1c0002row4_col0\" class=\"data row4 col0\" >0</td>\n",
              "                        <td id=\"T_10f71b40_1258_11ea_9469_0242ac1c0002row4_col1\" class=\"data row4 col1\" >5</td>\n",
              "                        <td id=\"T_10f71b40_1258_11ea_9469_0242ac1c0002row4_col2\" class=\"data row4 col2\" >1</td>\n",
              "                        <td id=\"T_10f71b40_1258_11ea_9469_0242ac1c0002row4_col3\" class=\"data row4 col3\" >1</td>\n",
              "                        <td id=\"T_10f71b40_1258_11ea_9469_0242ac1c0002row4_col4\" class=\"data row4 col4\" >29</td>\n",
              "                        <td id=\"T_10f71b40_1258_11ea_9469_0242ac1c0002row4_col5\" class=\"data row4 col5\" >1</td>\n",
              "                        <td id=\"T_10f71b40_1258_11ea_9469_0242ac1c0002row4_col6\" class=\"data row4 col6\" >0</td>\n",
              "                        <td id=\"T_10f71b40_1258_11ea_9469_0242ac1c0002row4_col7\" class=\"data row4 col7\" >2</td>\n",
              "                        <td id=\"T_10f71b40_1258_11ea_9469_0242ac1c0002row4_col8\" class=\"data row4 col8\" >1</td>\n",
              "            </tr>\n",
              "            <tr>\n",
              "                        <th id=\"T_10f71b40_1258_11ea_9469_0242ac1c0002level0_row5\" class=\"row_heading level0 row5\" >aquarium</th>\n",
              "                        <td id=\"T_10f71b40_1258_11ea_9469_0242ac1c0002row5_col0\" class=\"data row5 col0\" >0</td>\n",
              "                        <td id=\"T_10f71b40_1258_11ea_9469_0242ac1c0002row5_col1\" class=\"data row5 col1\" >0</td>\n",
              "                        <td id=\"T_10f71b40_1258_11ea_9469_0242ac1c0002row5_col2\" class=\"data row5 col2\" >0</td>\n",
              "                        <td id=\"T_10f71b40_1258_11ea_9469_0242ac1c0002row5_col3\" class=\"data row5 col3\" >1</td>\n",
              "                        <td id=\"T_10f71b40_1258_11ea_9469_0242ac1c0002row5_col4\" class=\"data row5 col4\" >1</td>\n",
              "                        <td id=\"T_10f71b40_1258_11ea_9469_0242ac1c0002row5_col5\" class=\"data row5 col5\" >39</td>\n",
              "                        <td id=\"T_10f71b40_1258_11ea_9469_0242ac1c0002row5_col6\" class=\"data row5 col6\" >0</td>\n",
              "                        <td id=\"T_10f71b40_1258_11ea_9469_0242ac1c0002row5_col7\" class=\"data row5 col7\" >0</td>\n",
              "                        <td id=\"T_10f71b40_1258_11ea_9469_0242ac1c0002row5_col8\" class=\"data row5 col8\" >0</td>\n",
              "            </tr>\n",
              "            <tr>\n",
              "                        <th id=\"T_10f71b40_1258_11ea_9469_0242ac1c0002level0_row6\" class=\"row_heading level0 row6\" >aqueduct</th>\n",
              "                        <td id=\"T_10f71b40_1258_11ea_9469_0242ac1c0002row6_col0\" class=\"data row6 col0\" >4</td>\n",
              "                        <td id=\"T_10f71b40_1258_11ea_9469_0242ac1c0002row6_col1\" class=\"data row6 col1\" >0</td>\n",
              "                        <td id=\"T_10f71b40_1258_11ea_9469_0242ac1c0002row6_col2\" class=\"data row6 col2\" >2</td>\n",
              "                        <td id=\"T_10f71b40_1258_11ea_9469_0242ac1c0002row6_col3\" class=\"data row6 col3\" >2</td>\n",
              "                        <td id=\"T_10f71b40_1258_11ea_9469_0242ac1c0002row6_col4\" class=\"data row6 col4\" >3</td>\n",
              "                        <td id=\"T_10f71b40_1258_11ea_9469_0242ac1c0002row6_col5\" class=\"data row6 col5\" >1</td>\n",
              "                        <td id=\"T_10f71b40_1258_11ea_9469_0242ac1c0002row6_col6\" class=\"data row6 col6\" >27</td>\n",
              "                        <td id=\"T_10f71b40_1258_11ea_9469_0242ac1c0002row6_col7\" class=\"data row6 col7\" >2</td>\n",
              "                        <td id=\"T_10f71b40_1258_11ea_9469_0242ac1c0002row6_col8\" class=\"data row6 col8\" >0</td>\n",
              "            </tr>\n",
              "            <tr>\n",
              "                        <th id=\"T_10f71b40_1258_11ea_9469_0242ac1c0002level0_row7\" class=\"row_heading level0 row7\" >arch</th>\n",
              "                        <td id=\"T_10f71b40_1258_11ea_9469_0242ac1c0002row7_col0\" class=\"data row7 col0\" >3</td>\n",
              "                        <td id=\"T_10f71b40_1258_11ea_9469_0242ac1c0002row7_col1\" class=\"data row7 col1\" >3</td>\n",
              "                        <td id=\"T_10f71b40_1258_11ea_9469_0242ac1c0002row7_col2\" class=\"data row7 col2\" >5</td>\n",
              "                        <td id=\"T_10f71b40_1258_11ea_9469_0242ac1c0002row7_col3\" class=\"data row7 col3\" >2</td>\n",
              "                        <td id=\"T_10f71b40_1258_11ea_9469_0242ac1c0002row7_col4\" class=\"data row7 col4\" >2</td>\n",
              "                        <td id=\"T_10f71b40_1258_11ea_9469_0242ac1c0002row7_col5\" class=\"data row7 col5\" >0</td>\n",
              "                        <td id=\"T_10f71b40_1258_11ea_9469_0242ac1c0002row7_col6\" class=\"data row7 col6\" >5</td>\n",
              "                        <td id=\"T_10f71b40_1258_11ea_9469_0242ac1c0002row7_col7\" class=\"data row7 col7\" >19</td>\n",
              "                        <td id=\"T_10f71b40_1258_11ea_9469_0242ac1c0002row7_col8\" class=\"data row7 col8\" >2</td>\n",
              "            </tr>\n",
              "            <tr>\n",
              "                        <th id=\"T_10f71b40_1258_11ea_9469_0242ac1c0002level0_row8\" class=\"row_heading level0 row8\" >art_gallery</th>\n",
              "                        <td id=\"T_10f71b40_1258_11ea_9469_0242ac1c0002row8_col0\" class=\"data row8 col0\" >0</td>\n",
              "                        <td id=\"T_10f71b40_1258_11ea_9469_0242ac1c0002row8_col1\" class=\"data row8 col1\" >5</td>\n",
              "                        <td id=\"T_10f71b40_1258_11ea_9469_0242ac1c0002row8_col2\" class=\"data row8 col2\" >1</td>\n",
              "                        <td id=\"T_10f71b40_1258_11ea_9469_0242ac1c0002row8_col3\" class=\"data row8 col3\" >2</td>\n",
              "                        <td id=\"T_10f71b40_1258_11ea_9469_0242ac1c0002row8_col4\" class=\"data row8 col4\" >2</td>\n",
              "                        <td id=\"T_10f71b40_1258_11ea_9469_0242ac1c0002row8_col5\" class=\"data row8 col5\" >1</td>\n",
              "                        <td id=\"T_10f71b40_1258_11ea_9469_0242ac1c0002row8_col6\" class=\"data row8 col6\" >0</td>\n",
              "                        <td id=\"T_10f71b40_1258_11ea_9469_0242ac1c0002row8_col7\" class=\"data row8 col7\" >0</td>\n",
              "                        <td id=\"T_10f71b40_1258_11ea_9469_0242ac1c0002row8_col8\" class=\"data row8 col8\" >30</td>\n",
              "            </tr>\n",
              "    </tbody></table>"
            ],
            "text/plain": [
              "<pandas.io.formats.style.Styler at 0x7f04f013ec50>"
            ]
          },
          "metadata": {
            "tags": []
          },
          "execution_count": 13
        },
        {
          "output_type": "display_data",
          "data": {
            "text/plain": [
              "<Figure size 432x288 with 0 Axes>"
            ]
          },
          "metadata": {
            "tags": []
          }
        }
      ]
    }
  ]
}